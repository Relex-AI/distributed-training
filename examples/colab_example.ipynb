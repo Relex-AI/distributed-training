{
    "cells": [
     {
      "cell_type": "markdown",
      "metadata": {},
      "source": [
       "# Configuração do Google Colab para Treinamento Distribuído Relex.AI\n",
       "\n",
       "Este notebook demonstra como configurar o ambiente Google Colab como nó de trabalho para o sistema de treinamento distribuído Relex.AI."
      ]
     },
     {
      "cell_type": "markdown",
      "metadata": {},
      "source": [
       "## 1. Verificando Ambiente Colab\n",
       "\n",
       "Primeiro, vamos verificar os recursos disponíveis neste ambiente Colab."
      ]
     },
     {
      "cell_type": "code",
      "execution_count": null,
      "metadata": {},
      "outputs": [],
      "source": [
       "# Verificar tipo de GPU disponível\n",
       "!nvidia-smi\n",
       "\n",
       "# Verificar informações do sistema\n",
       "!cat /proc/cpuinfo | grep \"model name\" | head -1\n",
       "!free -h\n",
       "!df -h /content"
      ]
     },
     {
      "cell_type": "markdown",
      "metadata": {},
      "source": [
       "## 2. Download do Script de Configuração\n",
       "\n",
       "Agora vamos baixar o script de configuração para o Google Colab."
      ]
     },
     {
      "cell_type": "code",
      "execution_count": null,
      "metadata": {},
      "outputs": [],
      "source": [
       "# Criar diretório para o script, se não existir\n",
       "!mkdir -p scripts\n",
       "\n",
       "# Baixar o script de configuração do repositório\n",
       "!wget -O scripts/setup_colab.py https://raw.githubusercontent.com/relex-ai/distributed-training/main/scripts/setup_colab.py\n",
       "\n",
       "# Verificar se o download foi bem-sucedido\n",
       "!ls -la scripts/"
      ]
     },
     {
      "cell_type": "markdown",
      "metadata": {},
      "source": [
       "## 3. Configurar Token ngrok\n",
       "\n",
       "Precisamos configurar um token do ngrok para criar um túnel que permita comunicação externa com o nó de trabalho."
      ]
     },
     {
      "cell_type": "code",
      "execution_count": null,
      "metadata": {},
      "outputs": [],
      "source": [
       "# Configure seu token ngrok aqui\n",
       "# Você pode obter um token gratuito em https://dashboard.ngrok.com/get-started/your-authtoken\n",
       "NGROK_TOKEN = \"seu_token_ngrok_aqui\""
      ]
     },
     {
      "cell_type": "markdown",
      "metadata": {},
      "source": [
       "## 4. Definir Parâmetros de Configuração\n",
       "\n",
       "Configure os parâmetros necessários para conectar ao servidor mestre."
      ]
     },
     {
      "cell_type": "code",
      "execution_count": null,
      "metadata": {},
      "outputs": [],
      "source": [
       "# Configurações do servidor mestre\n",
       "MASTER_IP = \"seu_master_ip_aqui\"  # Substitua pelo IP do servidor mestre\n",
       "MASTER_PORT = 5000  # Porta padrão, ajuste se necessário\n",
       "\n",
       "# Token de autenticação para registro com o servidor mestre\n",
       "AUTH_TOKEN = \"seu_token_de_autenticacao_aqui\"\n",
       "\n",
       "# Configurações adicionais (opcionais)\n",
       "WORKER_PORT = 5001  # Porta local do nó de trabalho\n",
       "WORKING_DIR = \"/content/relex\"  # Diretório de trabalho\n",
       "NODE_NAME = \"colab-worker-1\"  # Nome personalizado para este nó"
      ]
     },
     {
      "cell_type": "markdown",
      "metadata": {},
      "source": [
       "## 5. Executar o Script de Configuração\n",
       "\n",
       "Agora vamos executar o script com os parâmetros definidos."
      ]
     },
     {
      "cell_type": "code",
      "execution_count": null,
      "metadata": {},
      "outputs": [],
      "source": [
       "!python scripts/setup_colab.py \\\n",
       "    --master-ip $MASTER_IP \\\n",
       "    --master-port $MASTER_PORT \\\n",
       "    --worker-port $WORKER_PORT \\\n",
       "    --working-dir $WORKING_DIR \\\n",
       "    --token $AUTH_TOKEN \\\n",
       "    --ngrok-token $NGROK_TOKEN \\\n",
       "    --node-name $NODE_NAME"
      ]
     },
     {
      "cell_type": "markdown",
      "metadata": {},
      "source": [
       "## 6. Monitorar o Nó de Trabalho\n",
       "\n",
       "Uma vez configurado, o script iniciará automaticamente o processo de worker. Você pode monitorar os logs para verificar o progresso."
      ]
     },
     {
      "cell_type": "code",
      "execution_count": null,
      "metadata": {},
      "outputs": [],
      "source": [
       "# Verificar logs para monitorar o progresso\n",
       "!tail -f $WORKING_DIR/logs/worker.log"
      ]
     },
     {
      "cell_type": "markdown",
      "metadata": {},
      "source": [
       "## 7. Verificar Status\n",
       "\n",
       "Você pode verificar o status do nó de trabalho e sua conexão com o servidor mestre."
      ]
     },
     {
      "cell_type": "code",
      "execution_count": null,
      "metadata": {},
      "outputs": [],
      "source": [
       "# Verificar se o processo worker está em execução\n",
       "!ps aux | grep run_worker\n",
       "\n",
       "# Verificar configuração do worker\n",
       "!cat $WORKING_DIR/worker_config.json"
      ]
     },
     {
      "cell_type": "markdown",
      "metadata": {},
      "source": [
       "## 8. Manter Colab Ativo\n",
       "\n",
       "Para evitar que o Google Colab entre em modo de inatividade e desconecte o worker, você pode executar o seguinte código:"
      ]
     },
     {
      "cell_type": "code",
      "execution_count": null,
      "metadata": {},
      "outputs": [],
      "source": [
       "# Função para manter o Colab ativo\n",
       "import time\n",
       "import IPython.display\n",
       "from IPython.display import HTML, display\n",
       "\n",
       "def keep_alive():\n",
       "    display(HTML('''\n",
       "    <script>\n",
       "        function ClickConnect(){\n",
       "            console.log(\"Mantendo conexão ativa\");\n",
       "            document.querySelector(\"colab-connect-button\").click()\n",
       "        }\n",
       "        setInterval(ClickConnect, 60000)\n",
       "    </script>\n",
       "    ''')\n",
       "    )\n",
       "    \n",
       "    while True:\n",
       "        time.sleep(60)\n",
       "        IPython.display.clear_output(wait=True)\n",
       "        print(f\"Sessão Colab mantida ativa - Último ping: {time.strftime('%Y-%m-%d %H:%M:%S')}\")\n",
       "\n",
       "# Descomente a linha abaixo para iniciar o script keep-alive\n",
       "# keep_alive()"
      ]
     },
     {
      "cell_type": "markdown",
      "metadata": {},
      "source": [
       "---\n",
       "\n",
       "**Nota:** Este notebook deve ser mantido em execução enquanto você deseja que este ambiente Colab participe do treinamento distribuído. O fechamento do notebook ou a expiração da sessão desconectará o nó do sistema distribuído."
      ]
     }
    ],
    "metadata": {
     "language_info": {
      "codemirror_mode": {
       "name": "ipython",
       "version": 3
      },
      "file_extension": ".py",
      "mimetype": "text/x-python",
      "name": "python",
      "nbconvert_exporter": "python",
      "pygments_lexer": "ipython3",
      "version": "3.7.13"
     }
    },
    "nbformat": 4,
    "nbformat_minor": 4
   }